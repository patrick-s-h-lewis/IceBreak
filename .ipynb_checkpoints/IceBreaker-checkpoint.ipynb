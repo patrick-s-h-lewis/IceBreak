{
 "cells": [
  {
   "cell_type": "code",
   "execution_count": 18,
   "metadata": {
    "collapsed": true
   },
   "outputs": [],
   "source": [
    "import requests\n",
    "from scrapy.http import TextResponse\n",
    "import re\n",
    "import csv\n",
    "import collections\n",
    "import sys"
   ]
  },
  {
   "cell_type": "code",
   "execution_count": 34,
   "metadata": {
    "collapsed": false
   },
   "outputs": [],
   "source": [
    "def strip_text(data):\n",
    "    #return a list from an html string of the html tags\n",
    "    p = re.compile('<.*?>')\n",
    "    return p.findall(data)\n",
    "\n",
    "def strip_tags(data):\n",
    "    #strips tags from an html string.\n",
    "    p = re.compile('<.*?>')\n",
    "    return p.sub(\"\",data)\n",
    "\n",
    "def strip_meta(tags):\n",
    "    #strips metadata (classes, attributes etc) from list of html tags\n",
    "    cleantags = [];\n",
    "    p = re.compile(\"\"\"\\A\\<[a-z | A-Z]*\\ \"\"\")\n",
    "    for tag in tags:\n",
    "        if (tag[1]==\"!\"):\n",
    "            pass\n",
    "        else:\n",
    "            new_tag = p.findall(tag)\n",
    "            if new_tag==[]: cleantags.append(tag)\n",
    "            else: cleantags.append(new_tag[0][:-1]+\">\")\n",
    "    return cleantags\n",
    "\n",
    "def sanitise(raw_tags,codex):\n",
    "    #take tags and replace by an string character alphabet. codex is \"tags4\"\n",
    "    reader = csv.reader(open(codex, 'rb'))\n",
    "    tag_dict= dict((x[0],x[1]) for x in reader)\n",
    "    sanitised_list = []\n",
    "    for item in raw_tags:\n",
    "        try:\n",
    "            sanitised = tag_dict[item]\n",
    "            sanitised_list.append(sanitised)\n",
    "        except:\n",
    "            pass\n",
    "    return \"\".join(sanitised_list)"
   ]
  },
  {
   "cell_type": "code",
   "execution_count": 20,
   "metadata": {
    "collapsed": false
   },
   "outputs": [],
   "source": [
    "def most_common(lst):\n",
    "    data = collections.Counter(lst)\n",
    "    return data.most_common(1)[0][0]"
   ]
  },
  {
   "cell_type": "code",
   "execution_count": 21,
   "metadata": {
    "collapsed": true
   },
   "outputs": [],
   "source": [
    "#strike a match algorithm!\n",
    "#http://www.catalysoft.com/articles/StrikeAMatch.html\n",
    "#http://stackoverflow.com/questions/653157/a-better-similarity-ranking-algorithm-for-variable-length-strings\n",
    "def get_bigrams(s):\n",
    "    '''\n",
    "    Takes a string and returns a list of bigrams\n",
    "    '''\n",
    "    return [s[i:i+2] for i in xrange(len(s) - 1)]\n",
    "\n",
    "def similarity(str1, str2):\n",
    "    '''\n",
    "    Perform bigram comparison between two strings\n",
    "    and return a percentage match in decimal form\n",
    "    '''\n",
    "    if (str1==\"\" or str2==\"\"): \n",
    "        score = 0.0\n",
    "    else: \n",
    "        pairs1 = get_bigrams(str1)\n",
    "        pairs2 = get_bigrams(str2)\n",
    "        union  = len(pairs1) + len(pairs2)\n",
    "        hit_count = 0\n",
    "        for x in pairs1:\n",
    "            for y in pairs2:\n",
    "                if x == y:\n",
    "                    hit_count += 1\n",
    "                    pairs2.remove(y)\n",
    "                    break\n",
    "        if union == 0:\n",
    "            score = 0.\n",
    "        else: \n",
    "            score = (2.0 * hit_count) / union\n",
    "    return score"
   ]
  },
  {
   "cell_type": "code",
   "execution_count": 37,
   "metadata": {
    "collapsed": true
   },
   "outputs": [],
   "source": [
    "def layer_report(r):\n",
    "    structures = []\n",
    "    sims = []\n",
    "    for mem in r.xpath(\"*\"):\n",
    "        raw_tags = strip_meta(strip_text(mem.extract()))\n",
    "        san = sanitise(raw_tags,'tags4.csv')\n",
    "        structures.append(san)\n",
    "    mc = most_common(structures)\n",
    "    for s in structures:\n",
    "        sims.append(similarity(s,mc))\n",
    "    ave_sim = sum(sims)/len(sims)\n",
    "    node_count = len(r.xpath(\"*\"))\n",
    "    qual_nodes = sum([similarity_threshold<=x<=1 for x in sims])\n",
    "    proportion = qual_nodes/float(node_count)\n",
    "    done = (\n",
    "        (qual_nodes>=node_threshold) and \n",
    "        (proportion>=proportion_threshold) and \n",
    "        (ave_sim>=ave_similarity_threshold)\n",
    "    )\n",
    "    print(\"average similarity: \" + str(ave_sim))\n",
    "    print(\"node count: \" + str(node_count))\n",
    "    print(\"qualifying nodes: \"+str(qual_nodes))\n",
    "    print(\"proportion of records similar: \" + str(proportion))\n",
    "    print(\"Am I done? : \" + str(done) )\n",
    "    return (done,sims)"
   ]
  },
  {
   "cell_type": "code",
   "execution_count": 23,
   "metadata": {
    "collapsed": false
   },
   "outputs": [],
   "source": [
    "def select_cube(r):\n",
    "    cubes = r.xpath(\"*\")\n",
    "    sizes = [len(c.xpath(\"descendant::*\")) for c in cubes]\n",
    "    ind = sizes.index(max(sizes))\n",
    "    print(\n",
    "        \"returning node:\" + str(ind) +\n",
    "        \" with descendents: \"+ str(sizes[ind])\n",
    "    )\n",
    "    return (cubes[ind])"
   ]
  },
  {
   "cell_type": "code",
   "execution_count": 30,
   "metadata": {
    "collapsed": true
   },
   "outputs": [],
   "source": [
    "def crush_ice(r):\n",
    "    (layer,sims) = layer_report(r)\n",
    "    if not layer:\n",
    "        return crush_ice(select_cube(r))\n",
    "    else:\n",
    "        return serve_drink(r,sims)"
   ]
  },
  {
   "cell_type": "code",
   "execution_count": 42,
   "metadata": {
    "collapsed": false
   },
   "outputs": [],
   "source": [
    "def serve_drink(r,sims):\n",
    "    cubes = r.xpath(\"*\")\n",
    "    for ind in range(len(cubes)):\n",
    "        if sims[ind]>=similarity_threshold:\n",
    "            print(\"*\"*10+\"record number: \"+str(ind)+\"*\"*10)\n",
    "            sys.stdout.write(strip_tags(cubes[ind].extract()))\n",
    "        #sys.stdout.write(strip_tags(rec.extract()))\n",
    "        #sys.stdout.write(rec.extract())\n",
    "        #print(\"***\")\n",
    "    return(\"finished\")"
   ]
  },
  {
   "cell_type": "code",
   "execution_count": 40,
   "metadata": {
    "collapsed": true
   },
   "outputs": [],
   "source": [
    "def export(cube):\n",
    "    \"\"\"make record\"\"\"\n",
    "    pass"
   ]
  },
  {
   "cell_type": "code",
   "execution_count": 43,
   "metadata": {
    "collapsed": false
   },
   "outputs": [
    {
     "name": "stdout",
     "output_type": "stream",
     "text": [
      "average similarity: 0.5\n",
      "node count: 2\n",
      "qualifying nodes: 1\n",
      "proportion of records similar: 0.5\n",
      "Am I done? : False\n",
      "returning node:1 with descendents: 2005\n",
      "average similarity: 0.0\n",
      "node count: 5\n",
      "qualifying nodes: 0\n",
      "proportion of records similar: 0.0\n",
      "Am I done? : False\n",
      "returning node:0 with descendents: 1977\n",
      "average similarity: 0.0\n",
      "node count: 5\n",
      "qualifying nodes: 0\n",
      "proportion of records similar: 0.0\n",
      "Am I done? : False\n",
      "returning node:2 with descendents: 1954\n",
      "average similarity: 0.563717746182\n",
      "node count: 2\n",
      "qualifying nodes: 1\n",
      "proportion of records similar: 0.5\n",
      "Am I done? : False\n",
      "returning node:0 with descendents: 1294\n",
      "average similarity: 0.334956712094\n",
      "node count: 3\n",
      "qualifying nodes: 1\n",
      "proportion of records similar: 0.333333333333\n",
      "Am I done? : False\n",
      "returning node:2 with descendents: 1277\n",
      "average similarity: 0.813790544088\n",
      "node count: 57\n",
      "qualifying nodes: 50\n",
      "proportion of records similar: 0.877192982456\n",
      "Am I done? : True\n",
      "**********record number: 4**********\n"
     ]
    },
    {
     "ename": "AttributeError",
     "evalue": "'SelectorList' object has no attribute 'decode'",
     "output_type": "error",
     "traceback": [
      "\u001b[0;31m---------------------------------------------------------------------------\u001b[0m",
      "\u001b[0;31mAttributeError\u001b[0m                            Traceback (most recent call last)",
      "\u001b[0;32m<ipython-input-43-8eae17fb2447>\u001b[0m in \u001b[0;36m<module>\u001b[0;34m()\u001b[0m\n\u001b[1;32m      5\u001b[0m \u001b[0mproportion_threshold\u001b[0m \u001b[0;34m=\u001b[0m \u001b[0;36m0.70\u001b[0m\u001b[0;34m\u001b[0m\u001b[0m\n\u001b[1;32m      6\u001b[0m \u001b[0mave_similarity_threshold\u001b[0m \u001b[0;34m=\u001b[0m \u001b[0;36m0.70\u001b[0m\u001b[0;34m\u001b[0m\u001b[0m\n\u001b[0;32m----> 7\u001b[0;31m \u001b[0mcrush_ice\u001b[0m\u001b[0;34m(\u001b[0m\u001b[0mresponse\u001b[0m\u001b[0;34m)\u001b[0m\u001b[0;34m\u001b[0m\u001b[0m\n\u001b[0m",
      "\u001b[0;32m<ipython-input-30-8e74b1d2add3>\u001b[0m in \u001b[0;36mcrush_ice\u001b[0;34m(r)\u001b[0m\n\u001b[1;32m      2\u001b[0m     \u001b[0;34m(\u001b[0m\u001b[0mlayer\u001b[0m\u001b[0;34m,\u001b[0m\u001b[0msims\u001b[0m\u001b[0;34m)\u001b[0m \u001b[0;34m=\u001b[0m \u001b[0mlayer_report\u001b[0m\u001b[0;34m(\u001b[0m\u001b[0mr\u001b[0m\u001b[0;34m)\u001b[0m\u001b[0;34m\u001b[0m\u001b[0m\n\u001b[1;32m      3\u001b[0m     \u001b[0;32mif\u001b[0m \u001b[0;32mnot\u001b[0m \u001b[0mlayer\u001b[0m\u001b[0;34m:\u001b[0m\u001b[0;34m\u001b[0m\u001b[0m\n\u001b[0;32m----> 4\u001b[0;31m         \u001b[0;32mreturn\u001b[0m \u001b[0mcrush_ice\u001b[0m\u001b[0;34m(\u001b[0m\u001b[0mselect_cube\u001b[0m\u001b[0;34m(\u001b[0m\u001b[0mr\u001b[0m\u001b[0;34m)\u001b[0m\u001b[0;34m)\u001b[0m\u001b[0;34m\u001b[0m\u001b[0m\n\u001b[0m\u001b[1;32m      5\u001b[0m     \u001b[0;32melse\u001b[0m\u001b[0;34m:\u001b[0m\u001b[0;34m\u001b[0m\u001b[0m\n\u001b[1;32m      6\u001b[0m         \u001b[0;32mreturn\u001b[0m \u001b[0mserve_drink\u001b[0m\u001b[0;34m(\u001b[0m\u001b[0mr\u001b[0m\u001b[0;34m,\u001b[0m\u001b[0msims\u001b[0m\u001b[0;34m)\u001b[0m\u001b[0;34m\u001b[0m\u001b[0m\n",
      "\u001b[0;32m<ipython-input-30-8e74b1d2add3>\u001b[0m in \u001b[0;36mcrush_ice\u001b[0;34m(r)\u001b[0m\n\u001b[1;32m      2\u001b[0m     \u001b[0;34m(\u001b[0m\u001b[0mlayer\u001b[0m\u001b[0;34m,\u001b[0m\u001b[0msims\u001b[0m\u001b[0;34m)\u001b[0m \u001b[0;34m=\u001b[0m \u001b[0mlayer_report\u001b[0m\u001b[0;34m(\u001b[0m\u001b[0mr\u001b[0m\u001b[0;34m)\u001b[0m\u001b[0;34m\u001b[0m\u001b[0m\n\u001b[1;32m      3\u001b[0m     \u001b[0;32mif\u001b[0m \u001b[0;32mnot\u001b[0m \u001b[0mlayer\u001b[0m\u001b[0;34m:\u001b[0m\u001b[0;34m\u001b[0m\u001b[0m\n\u001b[0;32m----> 4\u001b[0;31m         \u001b[0;32mreturn\u001b[0m \u001b[0mcrush_ice\u001b[0m\u001b[0;34m(\u001b[0m\u001b[0mselect_cube\u001b[0m\u001b[0;34m(\u001b[0m\u001b[0mr\u001b[0m\u001b[0;34m)\u001b[0m\u001b[0;34m)\u001b[0m\u001b[0;34m\u001b[0m\u001b[0m\n\u001b[0m\u001b[1;32m      5\u001b[0m     \u001b[0;32melse\u001b[0m\u001b[0;34m:\u001b[0m\u001b[0;34m\u001b[0m\u001b[0m\n\u001b[1;32m      6\u001b[0m         \u001b[0;32mreturn\u001b[0m \u001b[0mserve_drink\u001b[0m\u001b[0;34m(\u001b[0m\u001b[0mr\u001b[0m\u001b[0;34m,\u001b[0m\u001b[0msims\u001b[0m\u001b[0;34m)\u001b[0m\u001b[0;34m\u001b[0m\u001b[0m\n",
      "\u001b[0;32m<ipython-input-30-8e74b1d2add3>\u001b[0m in \u001b[0;36mcrush_ice\u001b[0;34m(r)\u001b[0m\n\u001b[1;32m      2\u001b[0m     \u001b[0;34m(\u001b[0m\u001b[0mlayer\u001b[0m\u001b[0;34m,\u001b[0m\u001b[0msims\u001b[0m\u001b[0;34m)\u001b[0m \u001b[0;34m=\u001b[0m \u001b[0mlayer_report\u001b[0m\u001b[0;34m(\u001b[0m\u001b[0mr\u001b[0m\u001b[0;34m)\u001b[0m\u001b[0;34m\u001b[0m\u001b[0m\n\u001b[1;32m      3\u001b[0m     \u001b[0;32mif\u001b[0m \u001b[0;32mnot\u001b[0m \u001b[0mlayer\u001b[0m\u001b[0;34m:\u001b[0m\u001b[0;34m\u001b[0m\u001b[0m\n\u001b[0;32m----> 4\u001b[0;31m         \u001b[0;32mreturn\u001b[0m \u001b[0mcrush_ice\u001b[0m\u001b[0;34m(\u001b[0m\u001b[0mselect_cube\u001b[0m\u001b[0;34m(\u001b[0m\u001b[0mr\u001b[0m\u001b[0;34m)\u001b[0m\u001b[0;34m)\u001b[0m\u001b[0;34m\u001b[0m\u001b[0m\n\u001b[0m\u001b[1;32m      5\u001b[0m     \u001b[0;32melse\u001b[0m\u001b[0;34m:\u001b[0m\u001b[0;34m\u001b[0m\u001b[0m\n\u001b[1;32m      6\u001b[0m         \u001b[0;32mreturn\u001b[0m \u001b[0mserve_drink\u001b[0m\u001b[0;34m(\u001b[0m\u001b[0mr\u001b[0m\u001b[0;34m,\u001b[0m\u001b[0msims\u001b[0m\u001b[0;34m)\u001b[0m\u001b[0;34m\u001b[0m\u001b[0m\n",
      "\u001b[0;32m<ipython-input-30-8e74b1d2add3>\u001b[0m in \u001b[0;36mcrush_ice\u001b[0;34m(r)\u001b[0m\n\u001b[1;32m      2\u001b[0m     \u001b[0;34m(\u001b[0m\u001b[0mlayer\u001b[0m\u001b[0;34m,\u001b[0m\u001b[0msims\u001b[0m\u001b[0;34m)\u001b[0m \u001b[0;34m=\u001b[0m \u001b[0mlayer_report\u001b[0m\u001b[0;34m(\u001b[0m\u001b[0mr\u001b[0m\u001b[0;34m)\u001b[0m\u001b[0;34m\u001b[0m\u001b[0m\n\u001b[1;32m      3\u001b[0m     \u001b[0;32mif\u001b[0m \u001b[0;32mnot\u001b[0m \u001b[0mlayer\u001b[0m\u001b[0;34m:\u001b[0m\u001b[0;34m\u001b[0m\u001b[0m\n\u001b[0;32m----> 4\u001b[0;31m         \u001b[0;32mreturn\u001b[0m \u001b[0mcrush_ice\u001b[0m\u001b[0;34m(\u001b[0m\u001b[0mselect_cube\u001b[0m\u001b[0;34m(\u001b[0m\u001b[0mr\u001b[0m\u001b[0;34m)\u001b[0m\u001b[0;34m)\u001b[0m\u001b[0;34m\u001b[0m\u001b[0m\n\u001b[0m\u001b[1;32m      5\u001b[0m     \u001b[0;32melse\u001b[0m\u001b[0;34m:\u001b[0m\u001b[0;34m\u001b[0m\u001b[0m\n\u001b[1;32m      6\u001b[0m         \u001b[0;32mreturn\u001b[0m \u001b[0mserve_drink\u001b[0m\u001b[0;34m(\u001b[0m\u001b[0mr\u001b[0m\u001b[0;34m,\u001b[0m\u001b[0msims\u001b[0m\u001b[0;34m)\u001b[0m\u001b[0;34m\u001b[0m\u001b[0m\n",
      "\u001b[0;32m<ipython-input-30-8e74b1d2add3>\u001b[0m in \u001b[0;36mcrush_ice\u001b[0;34m(r)\u001b[0m\n\u001b[1;32m      2\u001b[0m     \u001b[0;34m(\u001b[0m\u001b[0mlayer\u001b[0m\u001b[0;34m,\u001b[0m\u001b[0msims\u001b[0m\u001b[0;34m)\u001b[0m \u001b[0;34m=\u001b[0m \u001b[0mlayer_report\u001b[0m\u001b[0;34m(\u001b[0m\u001b[0mr\u001b[0m\u001b[0;34m)\u001b[0m\u001b[0;34m\u001b[0m\u001b[0m\n\u001b[1;32m      3\u001b[0m     \u001b[0;32mif\u001b[0m \u001b[0;32mnot\u001b[0m \u001b[0mlayer\u001b[0m\u001b[0;34m:\u001b[0m\u001b[0;34m\u001b[0m\u001b[0m\n\u001b[0;32m----> 4\u001b[0;31m         \u001b[0;32mreturn\u001b[0m \u001b[0mcrush_ice\u001b[0m\u001b[0;34m(\u001b[0m\u001b[0mselect_cube\u001b[0m\u001b[0;34m(\u001b[0m\u001b[0mr\u001b[0m\u001b[0;34m)\u001b[0m\u001b[0;34m)\u001b[0m\u001b[0;34m\u001b[0m\u001b[0m\n\u001b[0m\u001b[1;32m      5\u001b[0m     \u001b[0;32melse\u001b[0m\u001b[0;34m:\u001b[0m\u001b[0;34m\u001b[0m\u001b[0m\n\u001b[1;32m      6\u001b[0m         \u001b[0;32mreturn\u001b[0m \u001b[0mserve_drink\u001b[0m\u001b[0;34m(\u001b[0m\u001b[0mr\u001b[0m\u001b[0;34m,\u001b[0m\u001b[0msims\u001b[0m\u001b[0;34m)\u001b[0m\u001b[0;34m\u001b[0m\u001b[0m\n",
      "\u001b[0;32m<ipython-input-30-8e74b1d2add3>\u001b[0m in \u001b[0;36mcrush_ice\u001b[0;34m(r)\u001b[0m\n\u001b[1;32m      4\u001b[0m         \u001b[0;32mreturn\u001b[0m \u001b[0mcrush_ice\u001b[0m\u001b[0;34m(\u001b[0m\u001b[0mselect_cube\u001b[0m\u001b[0;34m(\u001b[0m\u001b[0mr\u001b[0m\u001b[0;34m)\u001b[0m\u001b[0;34m)\u001b[0m\u001b[0;34m\u001b[0m\u001b[0m\n\u001b[1;32m      5\u001b[0m     \u001b[0;32melse\u001b[0m\u001b[0;34m:\u001b[0m\u001b[0;34m\u001b[0m\u001b[0m\n\u001b[0;32m----> 6\u001b[0;31m         \u001b[0;32mreturn\u001b[0m \u001b[0mserve_drink\u001b[0m\u001b[0;34m(\u001b[0m\u001b[0mr\u001b[0m\u001b[0;34m,\u001b[0m\u001b[0msims\u001b[0m\u001b[0;34m)\u001b[0m\u001b[0;34m\u001b[0m\u001b[0m\n\u001b[0m",
      "\u001b[0;32m<ipython-input-42-126f3247e5cf>\u001b[0m in \u001b[0;36mserve_drink\u001b[0;34m(r, sims)\u001b[0m\n\u001b[1;32m      4\u001b[0m         \u001b[0;32mif\u001b[0m \u001b[0msims\u001b[0m\u001b[0;34m[\u001b[0m\u001b[0mind\u001b[0m\u001b[0;34m]\u001b[0m\u001b[0;34m>=\u001b[0m\u001b[0msimilarity_threshold\u001b[0m\u001b[0;34m:\u001b[0m\u001b[0;34m\u001b[0m\u001b[0m\n\u001b[1;32m      5\u001b[0m             \u001b[0;32mprint\u001b[0m\u001b[0;34m(\u001b[0m\u001b[0;34m\"*\"\u001b[0m\u001b[0;34m*\u001b[0m\u001b[0;36m10\u001b[0m\u001b[0;34m+\u001b[0m\u001b[0;34m\"record number: \"\u001b[0m\u001b[0;34m+\u001b[0m\u001b[0mstr\u001b[0m\u001b[0;34m(\u001b[0m\u001b[0mind\u001b[0m\u001b[0;34m)\u001b[0m\u001b[0;34m+\u001b[0m\u001b[0;34m\"*\"\u001b[0m\u001b[0;34m*\u001b[0m\u001b[0;36m10\u001b[0m\u001b[0;34m)\u001b[0m\u001b[0;34m\u001b[0m\u001b[0m\n\u001b[0;32m----> 6\u001b[0;31m             \u001b[0msys\u001b[0m\u001b[0;34m.\u001b[0m\u001b[0mstdout\u001b[0m\u001b[0;34m.\u001b[0m\u001b[0mwrite\u001b[0m\u001b[0;34m(\u001b[0m\u001b[0mcubes\u001b[0m\u001b[0;34m[\u001b[0m\u001b[0mind\u001b[0m\u001b[0;34m]\u001b[0m\u001b[0;34m.\u001b[0m\u001b[0mxpath\u001b[0m\u001b[0;34m(\u001b[0m\u001b[0;34m\"text()\"\u001b[0m\u001b[0;34m)\u001b[0m\u001b[0;34m)\u001b[0m\u001b[0;34m\u001b[0m\u001b[0m\n\u001b[0m\u001b[1;32m      7\u001b[0m         \u001b[0;31m#sys.stdout.write(strip_tags(rec.extract()))\u001b[0m\u001b[0;34m\u001b[0m\u001b[0;34m\u001b[0m\u001b[0m\n\u001b[1;32m      8\u001b[0m         \u001b[0;31m#sys.stdout.write(rec.extract())\u001b[0m\u001b[0;34m\u001b[0m\u001b[0;34m\u001b[0m\u001b[0m\n",
      "\u001b[0;32m/Library/Python/2.7/site-packages/IPython/kernel/zmq/iostream.pyc\u001b[0m in \u001b[0;36mwrite\u001b[0;34m(self, string)\u001b[0m\n\u001b[1;32m    211\u001b[0m             \u001b[0;31m# Make sure that we're handling unicode\u001b[0m\u001b[0;34m\u001b[0m\u001b[0;34m\u001b[0m\u001b[0m\n\u001b[1;32m    212\u001b[0m             \u001b[0;32mif\u001b[0m \u001b[0;32mnot\u001b[0m \u001b[0misinstance\u001b[0m\u001b[0;34m(\u001b[0m\u001b[0mstring\u001b[0m\u001b[0;34m,\u001b[0m \u001b[0municode_type\u001b[0m\u001b[0;34m)\u001b[0m\u001b[0;34m:\u001b[0m\u001b[0;34m\u001b[0m\u001b[0m\n\u001b[0;32m--> 213\u001b[0;31m                 \u001b[0mstring\u001b[0m \u001b[0;34m=\u001b[0m \u001b[0mstring\u001b[0m\u001b[0;34m.\u001b[0m\u001b[0mdecode\u001b[0m\u001b[0;34m(\u001b[0m\u001b[0mself\u001b[0m\u001b[0;34m.\u001b[0m\u001b[0mencoding\u001b[0m\u001b[0;34m,\u001b[0m \u001b[0;34m'replace'\u001b[0m\u001b[0;34m)\u001b[0m\u001b[0;34m\u001b[0m\u001b[0m\n\u001b[0m\u001b[1;32m    214\u001b[0m \u001b[0;34m\u001b[0m\u001b[0m\n\u001b[1;32m    215\u001b[0m             \u001b[0mis_child\u001b[0m \u001b[0;34m=\u001b[0m \u001b[0;34m(\u001b[0m\u001b[0mself\u001b[0m\u001b[0;34m.\u001b[0m\u001b[0m_check_mp_mode\u001b[0m\u001b[0;34m(\u001b[0m\u001b[0;34m)\u001b[0m \u001b[0;34m==\u001b[0m \u001b[0mCHILD\u001b[0m\u001b[0;34m)\u001b[0m\u001b[0;34m\u001b[0m\u001b[0m\n",
      "\u001b[0;31mAttributeError\u001b[0m: 'SelectorList' object has no attribute 'decode'"
     ]
    }
   ],
   "source": [
    "r = requests.get('http://ora.ox.ac.uk/search/detailed?q=%2A%3A%2A&truncate=450&rows=50&sort=timestamp%20desc')\n",
    "response = TextResponse(r.url, body=r.text, encoding='utf-8')\n",
    "similarity_threshold = 0.60\n",
    "node_threshold = 50\n",
    "proportion_threshold = 0.70\n",
    "ave_similarity_threshold = 0.70\n",
    "crush_ice(response)"
   ]
  },
  {
   "cell_type": "code",
   "execution_count": null,
   "metadata": {
    "collapsed": true
   },
   "outputs": [],
   "source": []
  },
  {
   "cell_type": "code",
   "execution_count": null,
   "metadata": {
    "collapsed": true
   },
   "outputs": [],
   "source": []
  }
 ],
 "metadata": {
  "kernelspec": {
   "display_name": "Python 2",
   "language": "python",
   "name": "python2"
  },
  "language_info": {
   "codemirror_mode": {
    "name": "ipython",
    "version": 2
   },
   "file_extension": ".py",
   "mimetype": "text/x-python",
   "name": "python",
   "nbconvert_exporter": "python",
   "pygments_lexer": "ipython2",
   "version": "2.7.6"
  }
 },
 "nbformat": 4,
 "nbformat_minor": 0
}
